{
 "cells": [
  {
   "cell_type": "code",
   "execution_count": null,
   "metadata": {},
   "outputs": [],
   "source": [
    "import xarray as xr\n",
    "import numpy as np\n",
    "import pandas as pd\n",
    "import matplotlib.pyplot as plt\n",
    "import cartopy.crs as ccrs\n",
    "import cartopy\n",
    "from scipy import stats"
   ]
  },
  {
   "cell_type": "code",
   "execution_count": null,
   "metadata": {},
   "outputs": [],
   "source": [
    "ds = xr.open_dataset(\"./data/wind_europe_2015_2019.nc\")"
   ]
  },
  {
   "cell_type": "code",
   "execution_count": null,
   "metadata": {},
   "outputs": [],
   "source": [
    "wind_speed = np.sqrt(ds['u100']**2 + ds['v100']**2)"
   ]
  },
  {
   "cell_type": "code",
   "execution_count": null,
   "metadata": {},
   "outputs": [],
   "source": [
    "mean_wind_speed = wind_speed.stack(cell=[\"latitude\", \"longitude\"])\n",
    "mean_wind_speed = mean_wind_speed.groupby(\"cell\").mean(...).unstack(\"cell\")\n",
    "mean_wind_speed = mean_wind_speed.rename({ \"cell_level_0\": \"latitude\", \"cell_level_1\": \"longitude\" })"
   ]
  },
  {
   "cell_type": "code",
   "execution_count": null,
   "metadata": {},
   "outputs": [],
   "source": [
    "fig1 = plt.figure(figsize=(20,20))\n",
    "ax = plt.axes(projection=ccrs.EqualEarth())\n",
    "ax.coastlines(resolution='10m')\n",
    "ax.margins(0)\n",
    "ax.gridlines(draw_labels=True)\n",
    "# ax.set_extent([-5, 10, 40, 55], crs=ccrs.PlateCarree())\n",
    "plot1 = mean_wind_speed.plot(cmap=plt.cm.YlGnBu, transform=ccrs.PlateCarree(), cbar_kwargs={'shrink':0.4})"
   ]
  },
  {
   "cell_type": "code",
   "execution_count": null,
   "metadata": {},
   "outputs": [],
   "source": [
    "swept_area = 38000\n",
    "power = 12\n",
    "def reduce_func(wind):\n",
    "    power_in = 0.5 * 1.247 * swept_area * wind**3 / 10**6 \n",
    "    return xr.where(np.logical_and(wind > 3, wind < 25), np.minimum(1, 16/27 * power_in / power), 0).mean()\n",
    "\n",
    "min_wind_speed = wind_speed.stack(cell=[\"latitude\", \"longitude\"])\n",
    "min_wind_speed = min_wind_speed.groupby(\"cell\").reduce(reduce_func, ...).unstack(\"cell\")\n",
    "min_wind_speed = min_wind_speed.rename({ \"cell_level_0\": \"latitude\", \"cell_level_1\": \"longitude\" })"
   ]
  },
  {
   "cell_type": "code",
   "execution_count": null,
   "metadata": {},
   "outputs": [],
   "source": [
    "fig1 = plt.figure(figsize=(20,20))\n",
    "ax = plt.axes(projection=ccrs.EqualEarth())\n",
    "ax.coastlines(resolution='10m')\n",
    "ax.margins(0)\n",
    "ax.gridlines(draw_labels=True)\n",
    "#ax.set_extent([-5, 10, 40, 55], crs=ccrs.PlateCarree())\n",
    "plot1 = min_wind_speed.plot(cmap=plt.cm.YlGnBu, transform=ccrs.PlateCarree(), cbar_kwargs={'shrink':0.4})"
   ]
  },
  {
   "cell_type": "code",
   "execution_count": null,
   "metadata": {},
   "outputs": [],
   "source": [
    "x, y = np.meshgrid(ds['longitude'].values, ds['latitude'].values)\n",
    "u = ds['u100'].mean(['time']).values\n",
    "v = ds['v100'].mean(['time']).values"
   ]
  },
  {
   "cell_type": "code",
   "execution_count": null,
   "metadata": {},
   "outputs": [],
   "source": [
    "fig1 = plt.figure(figsize=(20,20))\n",
    "ax = plt.axes(projection=ccrs.EqualEarth())\n",
    "ax.coastlines(resolution='10m')\n",
    "ax.margins(0)\n",
    "ax.gridlines(draw_labels=True)\n",
    "# ax.set_extent([-12, 32, 35, 60], crs=ccrs.PlateCarree())\n",
    "ax.set_extent([-5, 10, 40, 55], crs=ccrs.PlateCarree())\n",
    "ax.quiver(x, y, u, v, transform=ccrs.PlateCarree())\n",
    "plt.show()"
   ]
  },
  {
   "cell_type": "code",
   "execution_count": null,
   "metadata": {},
   "outputs": [],
   "source": [
    "# inverser quantile\n",
    "# groupe de vent\n",
    "# vent minimale sur la zone ??? Production ? \n",
    "# carte vecteurs"
   ]
  },
  {
   "cell_type": "code",
   "execution_count": null,
   "metadata": {},
   "outputs": [],
   "source": []
  }
 ],
 "metadata": {
  "kernelspec": {
   "display_name": "Python 3",
   "language": "python",
   "name": "python3"
  },
  "language_info": {
   "codemirror_mode": {
    "name": "ipython",
    "version": 3
   },
   "file_extension": ".py",
   "mimetype": "text/x-python",
   "name": "python",
   "nbconvert_exporter": "python",
   "pygments_lexer": "ipython3",
   "version": "3.8.6-final"
  }
 },
 "nbformat": 4,
 "nbformat_minor": 4
}