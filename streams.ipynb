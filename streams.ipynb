{
 "cells": [
  {
   "cell_type": "code",
   "execution_count": 1,
   "metadata": {},
   "outputs": [],
   "source": [
    "import xarray as xr\n",
    "import numpy as np\n",
    "import pandas as pd\n",
    "import matplotlib.pyplot as plt\n",
    "import cartopy.crs as ccrs\n",
    "import cartopy\n",
    "from scipy import stats\n",
    "from sklearn.cluster import KMeans, DBSCAN, AffinityPropagation, AgglomerativeClustering\n",
    "from sklearn.metrics import pairwise_distances"
   ]
  },
  {
   "cell_type": "code",
   "execution_count": 2,
   "metadata": {},
   "outputs": [],
   "source": [
    "ds = xr.open_dataset(\"./data/wind_europe_2015_2019.nc\")"
   ]
  },
  {
   "cell_type": "code",
   "execution_count": null,
   "metadata": {},
   "outputs": [],
   "source": [
    "selected_ds = ds # ds.sel(latitude=np.arange(40, 55.25, 0.25), longitude=np.arange(-5, 10.25, 0.25))\n",
    "wind_speed = np.sqrt(selected_ds['u100']**2 + selected_ds['v100']**2).resample(time=\"1D\").mean()"
   ]
  },
  {
   "cell_type": "code",
   "execution_count": null,
   "metadata": {},
   "outputs": [],
   "source": [
    "cell_wind_speed = wind_speed.stack(cell=[\"latitude\", \"longitude\"])\n",
    "# mean_wind_speed = cell_wind_speed.groupby(\"cell\").mean(...)\n",
    "# std_wind_speed = cell_wind_speed.groupby(\"cell\").std(...)\n",
    "# norm_cell_wind_speed = (cell_wind_speed - mean_wind_speed) / std_wind_speed\n",
    "norm_cell_wind_speed = cell_wind_speed.transpose(\"cell\", \"time\")"
   ]
  },
  {
   "cell_type": "code",
   "execution_count": null,
   "metadata": {},
   "outputs": [],
   "source": [
    "d = pairwise_distances(norm_cell_wind_speed, metric=\"correlation\")"
   ]
  },
  {
   "cell_type": "code",
   "execution_count": null,
   "metadata": {},
   "outputs": [],
   "source": [
    "clust = AgglomerativeClustering(n_clusters=None, distance_threshold=0.5, affinity='precomputed', linkage='complete').fit_predict(d) # n_clusters=6\n",
    "res = xr.DataArray(clust, coords=[norm_cell_wind_speed['cell']], dims=['cell']).unstack(\"cell\")\n",
    "\n",
    "fig1 = plt.figure(figsize=(20,20))\n",
    "ax = plt.axes(projection=ccrs.EqualEarth())\n",
    "ax.coastlines(resolution='10m')\n",
    "ax.margins(0)\n",
    "ax.gridlines(draw_labels=True)\n",
    "# ax.set_extent([-5, 10, 40, 55], crs=ccrs.PlateCarree())\n",
    "plot1 = res.plot(cmap=plt.cm.tab20, transform=ccrs.PlateCarree(), cbar_kwargs={'shrink':0.4})"
   ]
  },
  {
   "cell_type": "code",
   "execution_count": null,
   "metadata": {},
   "outputs": [],
   "source": [
    "a = norm_cell_wind_speed[\"cell\"].values\n",
    "dd = xr.DataArray(d, dims=[\"x\", \"y\"], coords={\"x\": a, \"y\": a })\n",
    "e = res.stack(cell=[\"latitude\", \"longitude\"])\n",
    "\n",
    "clust_inter = {}\n",
    "for cluster in np.unique(clust):\n",
    "    p = e[e == cluster][\"cell\"]\n",
    "    p2 = dd.sel(x=p.values, y=p.values)\n",
    "    clust_inter[cluster] = p2.quantile([0, 0.25, 0.5, 0.75]).values\n",
    "clust_inter"
   ]
  },
  {
   "cell_type": "code",
   "execution_count": null,
   "metadata": {},
   "outputs": [],
   "source": [
    "cell_wind_speed = wind_speed.stack(cell=[\"latitude\", \"longitude\"])\n",
    "mean_wind_speed = cell_wind_speed.groupby(\"cell\").mean(...)\n",
    "std_wind_speed = cell_wind_speed.groupby(\"cell\").std(...)\n",
    "m = (cell_wind_speed - mean_wind_speed) / std_wind_speed\n",
    "m = m.transpose(\"cell\", \"time\")\n",
    "d2 = pairwise_distances(m)"
   ]
  },
  {
   "cell_type": "code",
   "execution_count": null,
   "metadata": {},
   "outputs": [],
   "source": [
    "clust = AgglomerativeClustering(n_clusters=20, distance_threshold=None, affinity='precomputed', linkage='complete').fit_predict(d2) # n_clusters=6\n",
    "res = xr.DataArray(clust, coords=[m['cell']], dims=['cell']).unstack(\"cell\")\n",
    "\n",
    "fig1 = plt.figure(figsize=(20,20))\n",
    "ax = plt.axes(projection=ccrs.EqualEarth())\n",
    "ax.coastlines(resolution='10m')\n",
    "ax.margins(0)\n",
    "ax.gridlines(draw_labels=True)\n",
    "# ax.set_extent([-5, 10, 40, 55], crs=ccrs.PlateCarree())\n",
    "plot1 = res.plot(cmap=plt.cm.tab20, transform=ccrs.PlateCarree(), cbar_kwargs={'shrink':0.4})"
   ]
  },
  {
   "cell_type": "code",
   "execution_count": null,
   "metadata": {},
   "outputs": [],
   "source": [
    "clust = KMeans(n_clusters=8).fit_predict(m) # n_clusters=6\n",
    "res = xr.DataArray(clust, coords=[m['cell']], dims=['cell']).unstack(\"cell\")\n",
    "\n",
    "fig1 = plt.figure(figsize=(20,20))\n",
    "ax = plt.axes(projection=ccrs.EqualEarth())\n",
    "ax.coastlines(resolution='10m')\n",
    "ax.margins(0)\n",
    "ax.gridlines(draw_labels=True)\n",
    "# ax.set_extent([-5, 10, 40, 55], crs=ccrs.PlateCarree())\n",
    "plot1 = res.plot(cmap=plt.cm.tab20, transform=ccrs.PlateCarree(), cbar_kwargs={'shrink':0.4})"
   ]
  },
  {
   "cell_type": "code",
   "execution_count": null,
   "metadata": {},
   "outputs": [],
   "source": []
  }
 ],
 "metadata": {
  "kernelspec": {
   "display_name": "Python 3",
   "language": "python",
   "name": "python3"
  },
  "language_info": {
   "codemirror_mode": {
    "name": "ipython",
    "version": 3
   },
   "file_extension": ".py",
   "mimetype": "text/x-python",
   "name": "python",
   "nbconvert_exporter": "python",
   "pygments_lexer": "ipython3",
   "version": "3.9.0"
  }
 },
 "nbformat": 4,
 "nbformat_minor": 4
}
