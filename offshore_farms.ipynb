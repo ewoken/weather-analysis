{
 "cells": [
  {
   "cell_type": "code",
   "execution_count": null,
   "metadata": {},
   "outputs": [],
   "source": [
    "import xarray as xr\n",
    "import numpy as np\n",
    "import pandas as pd\n",
    "import plotly.express as px\n",
    "pd.options.plotting.backend = \"plotly\""
   ]
  },
  {
   "cell_type": "code",
   "execution_count": null,
   "metadata": {},
   "outputs": [],
   "source": [
    "ds = xr.open_dataset(\"./data/wind_europe_2015_2019.nc\")"
   ]
  },
  {
   "cell_type": "code",
   "execution_count": null,
   "metadata": {},
   "outputs": [],
   "source": [
    "wind_speed = np.sqrt(ds['u100']**2 + ds['v100']**2)"
   ]
  },
  {
   "cell_type": "code",
   "execution_count": null,
   "metadata": {},
   "outputs": [],
   "source": [
    "farms = pd.read_csv('./farms.csv', index_col=\"name\")\n",
    "farm_wind_ds = xr.Dataset()\n",
    "for farm_name in farms.index:\n",
    "    a = wind_speed.sel(latitude=farms.loc[farm_name, \"latitude\"], longitude=farms.loc[farm_name, \"longitude\"], method=\"nearest\")\n",
    "    farm_wind_ds[farm_name] = a.drop(['valid_time', 'latitude', 'longitude', 'number', 'step', 'surface'])\n",
    "    \n",
    "farm_load_factor_ds = xr.Dataset()\n",
    "for farm_name in farms.index:\n",
    "    wind = farm_wind_ds[farm_name]\n",
    "    power_in = 0.5 * 1.247 * farms.loc[farm_name, \"turbine_swept_area\"] * wind**3 / 10**6\n",
    "    power_min = 0.5 * 1.247 * farms.loc[farm_name, \"turbine_swept_area\"] * farms.loc[farm_name, \"turbine_cut_in\"]**3 / 10**6\n",
    "    farm_load_factor_ds[farm_name] = xr.where(np.logical_and(wind > farms.loc[farm_name, \"turbine_cut_in\"], wind < farms.loc[farm_name, \"turbine_cut_off\"]),\n",
    "                                              np.minimum(1, 16/27 * (power_in - power_min) / farms.loc[farm_name, \"turbine_power\"]), 0)"
   ]
  },
  {
   "cell_type": "code",
   "execution_count": null,
   "metadata": {},
   "outputs": [],
   "source": [
    "df = farm_load_factor_ds.to_dataframe()\n",
    "b= pd.DataFrame()\n",
    "for farm_name in farms.index:\n",
    "    b[farm_name] = df[farm_name].sort_values().reset_index(drop=True)\n",
    "b['index'] = b.index / len(a)\n",
    "data = pd.melt(b, id_vars = ['index'], value_vars=list(farms.index), var_name=\"farm\", value_name=\"load_factor\")\n",
    "fig = px.line(data, x=\"index\", y=\"load_factor\", color='farm')\n",
    "fig.show()"
   ]
  },
  {
   "cell_type": "code",
   "execution_count": null,
   "metadata": {},
   "outputs": [],
   "source": [
    "df = farm_wind_ds.to_dataframe()\n",
    "b= pd.DataFrame()\n",
    "for farm_name in farms.index:\n",
    "    b[farm_name] = df[farm_name].sort_values().reset_index(drop=True)\n",
    "b['index'] = b.index / len(a)\n",
    "data = pd.melt(b, id_vars = ['index'], value_vars=list(farms.index), var_name=\"farm\", value_name=\"wind_speed\")\n",
    "fig = px.line(data, x=\"index\", y=\"wind_speed\", color='farm')\n",
    "fig.show()\n",
    "fig = px.box(data, x=\"farm\", y=\"wind_speed\")\n",
    "fig.show()"
   ]
  },
  {
   "cell_type": "code",
   "execution_count": null,
   "metadata": {},
   "outputs": [],
   "source": [
    "{\n",
    "    farm_name: farm_load_factor_ds[farm_name].mean()\n",
    "    for farm_name in farms.index\n",
    "}"
   ]
  },
  {
   "cell_type": "code",
   "execution_count": null,
   "metadata": {},
   "outputs": [],
   "source": [
    "df = farm_wind_ds.to_dataframe()\n",
    "fig = px.scatter_matrix(df, width=1200, height=1200)\n",
    "fig.update_traces(marker=dict(size=1))\n",
    "fig.show()"
   ]
  },
  {
   "cell_type": "code",
   "execution_count": null,
   "metadata": {},
   "outputs": [],
   "source": [
    "corr = farm_wind_ds.to_dataframe().corr()\n",
    "corr.style.background_gradient(cmap='coolwarm')"
   ]
  },
  {
   "cell_type": "code",
   "execution_count": null,
   "metadata": {},
   "outputs": [],
   "source": [
    "# impact of specific area"
   ]
  }
 ],
 "metadata": {
  "kernelspec": {
   "display_name": "Python 3",
   "language": "python",
   "name": "python3"
  },
  "language_info": {
   "codemirror_mode": {
    "name": "ipython",
    "version": 3
   },
   "file_extension": ".py",
   "mimetype": "text/x-python",
   "name": "python",
   "nbconvert_exporter": "python",
   "pygments_lexer": "ipython3",
   "version": "3.8.6"
  }
 },
 "nbformat": 4,
 "nbformat_minor": 4
}
